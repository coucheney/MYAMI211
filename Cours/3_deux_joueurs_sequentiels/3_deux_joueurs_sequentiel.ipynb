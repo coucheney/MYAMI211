{
 "cells": [
  {
   "cell_type": "markdown",
   "metadata": {
    "hide_input": false,
    "slideshow": {
     "slide_type": "slide"
    }
   },
   "source": [
    "# Jeux à 2 joueurs séquentiels\n",
    "\n",
    "\n",
    "---\n",
    "\n",
    "On se place dans le cadre suivant:\n",
    "* jeux à somme nulle\n",
    "* horizon borné\n",
    "* sans hasard"
   ]
  },
  {
   "cell_type": "markdown",
   "metadata": {
    "slideshow": {
     "slide_type": "slide"
    }
   },
   "source": [
    "### Représentation sous forme d'arbre\n",
    "\n",
    "---\n",
    "* Deux joueurs appelés Min et Max\n",
    "* **sommets internes** (ou sommet décisionnel): états du jeu où les joueurs prennent une décision; les carrés rouges sont les états du joueur Max et les losanges bleus, ceux du joueur Min\n",
    "* **sommets feuilles**: états de fin de jeu valués; cette valeur correspond à ce que gagne joueur Max, et ce que perd le joueur Min\n",
    "* **arcs**: transitions entre états \n",
    "\n",
    "\n",
    "<center><img src='fig/arbre_exemple.png'  style=\"width: 1000px;\"></center> \n",
    "\n",
    "\n"
   ]
  },
  {
   "cell_type": "markdown",
   "metadata": {
    "slideshow": {
     "slide_type": "fragment"
    }
   },
   "source": [
    "* quel est le nombre de **stratégies** par joueur?\n",
    "\n",
    "* quelle est l'issue du jeu si les joueurs jouent de manière \"optimale\"?"
   ]
  },
  {
   "cell_type": "markdown",
   "metadata": {
    "slideshow": {
     "slide_type": "subslide"
    }
   },
   "source": [
    "### Stratégies et valeurs\n",
    "\n",
    "---\n",
    "\n",
    "* $\\Sigma_x$: ensemble de stratégies issues de l'état $x$ pour Max\n",
    "* $T_x$: ensemble de stratégies issues de l'état $x$ pour Min \n",
    "* $v_{\\sigma, \\tau}(x)$: gain obtenu par Max en commençant dans l'état $x$ si les joueurs suivent les stratégies $\\sigma \\in \\Sigma_x$ et $\\tau\\in T_x$\n"
   ]
  },
  {
   "cell_type": "markdown",
   "metadata": {
    "slideshow": {
     "slide_type": "fragment"
    }
   },
   "source": [
    "* on note $v_\\max(x)$ le **meilleur gain que Max peut garantir** depuis l'état $x$\n",
    "* on note $v_\\min(x)$ le **meilleur gain que Min peut garantir** depuis l'état $x$\n",
    "\n",
    "**Montrer que**: \n",
    "* $$v_\\max(x) = \\max_{\\sigma \\in \\Sigma_x} \\min_{\\tau \\in T_x}  v_{\\sigma, \\tau}(x)$$\n",
    "* $$v_\\min(x) = \\min_{\\tau \\in T_x} \\max_{\\sigma \\in \\Sigma_x}  v_{\\sigma, \\tau}(x)$$\n",
    "* $$v_\\max(x) \\leq v_\\min(x) $$\n",
    "\n",
    "\n"
   ]
  },
  {
   "cell_type": "markdown",
   "metadata": {
    "slideshow": {
     "slide_type": "fragment"
    }
   },
   "source": [
    "**Autre interprétation** de $v_\\max$ et $v_\\min$:\n",
    "\n",
    "* $v_\\max$: Max choisit sa stratégie en premier, puis Min répond en connaissant la stratégie de Max\n",
    "* $v_\\min$: Min choisit sa stratégie en premier, puis Max répond en connaissant la stratégie de Min\n",
    "\n"
   ]
  },
  {
   "cell_type": "markdown",
   "metadata": {
    "slideshow": {
     "slide_type": "subslide"
    }
   },
   "source": [
    "### Stratégies et valeurs\n",
    "\n",
    "---\n",
    "\n",
    "<div class=\"alert-info\">\n",
    "Théorème\n",
    "</div>\n",
    "\n",
    "Pour tout état $x$ on a \n",
    "\n",
    "$$v_\\max(x) =  \n",
    "\\left\\{\n",
    "\\begin{array}{l}\n",
    "\\text{valeur de la feuille si }x\\text{ est une feuille}\\\\\n",
    "\\max_{(x,y) \\in A} v_\\max(y) \\text{ si } x \\text{ est un sommet Max}\\\\\n",
    "\\min_{(x,y) \\in A} v_\\max(y) \\text{ si } x \\text{ est un sommet Min}\n",
    "\\end{array}\n",
    "\\right.\n",
    "$$\n",
    "\n",
    "**A démontrer**.\n",
    "\n",
    "\n",
    "Par symétrie sur $v_\\min(x)$, on a $v_\\max(x) = v_\\min(x)  $.\n",
    "\n",
    "On note $v(x)$ cette valeur que l'on appelle la **valeur** de $x$.\n",
    "\n",
    "\n",
    "\n",
    "\n"
   ]
  },
  {
   "cell_type": "markdown",
   "metadata": {
    "slideshow": {
     "slide_type": "fragment"
    }
   },
   "source": [
    "<div class=\"alert-info\">\n",
    "Algorithme minimax\n",
    "</div>\n",
    "\n",
    "Calculer les valeurs en remontant depuis les feuilles.\n",
    "\n",
    "**Remarques**:\n",
    "* il s'agit d'un algorithme de type backward induction\n",
    "* l'algorithme donne aussi des stratégies optimales\n",
    "\n",
    "\n"
   ]
  },
  {
   "cell_type": "markdown",
   "metadata": {
    "slideshow": {
     "slide_type": "subslide"
    }
   },
   "source": [
    "### Elagage $\\alpha\\beta$\n",
    "\n",
    "---\n",
    "\n",
    "Méthode d'exploration partielle de l'arbre pour calculer la valeur du jeu à la racine (type branch and bound).\n",
    "\n",
    "<center><img src='fig/alpha_beta.png'  style=\"width: 1000px;\"></center> \n",
    "\n"
   ]
  },
  {
   "cell_type": "markdown",
   "metadata": {
    "slideshow": {
     "slide_type": "slide"
    }
   },
   "source": [
    "### Jeux combinatoires\n",
    "\n",
    "---\n",
    "\n",
    "Les jeux combinatoires sont des jeux séquentiels à horizon fini dans lesquels il y a un perdant et un gagnant $\\Leftrightarrow$ les valeurs des feuilles de l'arbre sont 0 ou 1.\n",
    "\n",
    "On pourrait ajouter la possibilité d'un match nul."
   ]
  },
  {
   "cell_type": "markdown",
   "metadata": {
    "slideshow": {
     "slide_type": "fragment"
    }
   },
   "source": [
    "* Max a une **stratégie gagnante depuis $x$** s'il peut garantir la valeur $1$.\n",
    "* Min a une **stratégie gagnante depuis $x$** s'il peut garantir la valeur $0$.\n",
    "\n",
    "**Théorème de Zermelo**: pour tout $x$, un et un seul des joueurs a une stratégie gagnante.\n",
    "\n",
    "**Preuve**: \n",
    "Par le théorème précédent:\n",
    "* Max a une stratégie gagnante depuis $x$ si et seulement si $v(x) = 1$\n",
    "* Min a une stratégie gagnante depuis $x$ si et seulement si $v(x) = 0$\n",
    "* les deux seules valeurs possibles pour $v(x)$ sont 0 et 1, d'où le résultat.\n",
    "\n",
    "Théorème d'existence, non constructif."
   ]
  },
  {
   "cell_type": "markdown",
   "metadata": {
    "slideshow": {
     "slide_type": "subslide"
    }
   },
   "source": [
    "### Classification des  jeux combinatoires\n",
    "\n",
    "---\n",
    "\n",
    "* **jeu combinatoire impartial**: les actions des joueurs dépendent uniquement de la position du jeu et pas du joueur (exemples après). \n",
    "\n",
    "* **jeu combinatoire partisan**: si ce n'est pas un jeu impartial (ex. jeu d'échec, dames...).\n",
    "\n",
    "Dans la suite, on considère le cas des **jeux impartiaux**.\n"
   ]
  },
  {
   "cell_type": "markdown",
   "metadata": {
    "slideshow": {
     "slide_type": "subslide"
    }
   },
   "source": [
    "### Un premier exemple: jeu de Nim\n",
    "\n",
    "---\n",
    "\n",
    "* $n$ batonnets\n",
    "* à tour de rôle, les joueurs enlèvent 1, 2 ou 3 batonnets\n",
    "* celui qui enlève le dernier gagne\n",
    "\n",
    "**Question**: dire qui (premier ou deuxième joueur) a une stratégie gagnante en fonction de $n$. Expliciter la stratégie gagnante."
   ]
  },
  {
   "cell_type": "markdown",
   "metadata": {
    "slideshow": {
     "slide_type": "subslide"
    }
   },
   "source": [
    "### Une conséquence du théorème de Zermelo\n",
    "\n",
    "---\n",
    "\n",
    "* une **P-position**  est une position du jeu qui est gagnante pour le joueur **précédent** (celui qui a joué en dernier)\n",
    "\n",
    "* une **S-position** est une position du jeu qui est gagnante pour le joueur **suivant** (celui qui va jouer)\n",
    "\n",
    "<div class=\"alert-info\">\n",
    "Théorème\n",
    "</div>\n",
    "\n",
    "* les P-positions et S-positions partitionnent l'ensemble des positions;\n",
    "* depuis une S-position non terminale, il existe une transition vers une P-position;\n",
    "* depuis une P-position non terminale, toute transition mène vers une S-position;\n",
    "* une stratégie gagnante depuis une S-position consiste à amener l'adversaire à une P-position;\n",
    "\n",
    "**A démontrer.**\n"
   ]
  },
  {
   "cell_type": "markdown",
   "metadata": {
    "slideshow": {
     "slide_type": "subslide"
    }
   },
   "source": [
    "### Jeu des carrés de chocolat (chomp)\n",
    "\n",
    "---\n",
    "\n",
    "* tablette de chocolat rectangulaire constituée de $n\\times m$ carrés de chocolat\n",
    "* à tour de rôle, les joueurs choisissent un carré de chocolat restant, et on enlève alors tous les carrés qui sont \"au-dessus\" et \"à droite\" de celui-ci\n",
    "* le joueur qui prend le carré \"en bas à gauche\" perd"
   ]
  },
  {
   "cell_type": "markdown",
   "metadata": {
    "slideshow": {
     "slide_type": "fragment"
    }
   },
   "source": [
    "<div class=\"alert-info\">\n",
    "Théorème\n",
    "</div>\n",
    "\n",
    "la position initiale est une S-position.\n"
   ]
  },
  {
   "cell_type": "markdown",
   "metadata": {
    "slideshow": {
     "slide_type": "fragment"
    }
   },
   "source": [
    "**Preuve (vol de stratégie)**: par l'absurde, supposons que ce soit une P-position. Alors la position que l'on obtient en retirant le carré en haut à droite est une S-position. Il existe donc une stratégie pour le 2ème joueur qui amène vers une P-position. Mais le premier joueur aurait pu amener le 2ème joueur vers cette P-position au premier coup. Cela contredit le fait que la position initiale est une P-position."
   ]
  },
  {
   "cell_type": "markdown",
   "metadata": {
    "slideshow": {
     "slide_type": "fragment"
    }
   },
   "source": [
    "Donner la stratégie gagnante de J1 dans les cas suivants:\n",
    "* tablette de taille $1\\times n$\n",
    "* tablette de taille $2\\times n$\n",
    "* tablette de taille $n\\times n$\n"
   ]
  },
  {
   "cell_type": "markdown",
   "metadata": {
    "slideshow": {
     "slide_type": "subslide"
    }
   },
   "source": [
    "### Jeu de Nim général\n",
    "\n",
    "---\n",
    "\n",
    "* $k$ tas contenant respectivement $n_1$, $n_2$, ... $n_k$ batonnets\n",
    "* à tour de rôle, les joueurs enlèvent autant de batonnets qu'ils veulent, et au moins un, dans un seul tas\n",
    "* le gagnant est celui qui enlève le dernier batonnet du dernier tas\n",
    "\n",
    "\n",
    "**Question**: dire qui (premier ou deuxième joueur) a une stratégie gagnante quand $k$ vaut 1, 2 ou 3, en fonction de la taille des tas. Expliciter la stratégie gagnante."
   ]
  },
  {
   "cell_type": "markdown",
   "metadata": {
    "slideshow": {
     "slide_type": "subslide"
    }
   },
   "source": [
    "### Caractérisation des P-positions\n",
    "\n",
    "---\n",
    "\n",
    "\n",
    "<div class=\"alert-info\">\n",
    "Théorème\n",
    "</div>\n",
    "\n",
    "Soit $X$ un ensemble de positions du jeu; $X$ est l'ensemble des P-positions si et seulement si:\n",
    "* $X$ contient toutes les P-positions terminales et aucune S-position terminale\n",
    "* depuis une position en dehors de $X$ non terminale, il existe une transition vers $X$;\n",
    "* depuis une position de $X$ non terminale, toute transition mène vers une position en dehors de $X$;\n",
    "\n",
    "**A démontrer.**\n"
   ]
  },
  {
   "cell_type": "markdown",
   "metadata": {
    "slideshow": {
     "slide_type": "fragment"
    }
   },
   "source": [
    "Déterminer les P-positions et S-positions du jeu de Nim à $n$ batonnets dans lequel on peut retirer de 1 à k batonnets à chaque tour."
   ]
  },
  {
   "cell_type": "markdown",
   "metadata": {
    "slideshow": {
     "slide_type": "subslide"
    }
   },
   "source": [
    "### Retour sur le jeu de Nim général\n",
    "\n",
    "---\n",
    "\n",
    "<div class=\"alert-info\">\n",
    "Théorème\n",
    "</div>\n",
    "\n",
    "Les P-positions du jeu de Nim général $(n_1, n_2, \\dots , n_k)$ sont celles pour lesquelles\n",
    "$$n_1 \\oplus n_2 \\oplus \\dots \\oplus n_k = 0 $$\n",
    "où $a \\oplus b$ est la somme XOR des nombres écrits en binaire. Cette somme s'appelle **nim-somme**.\n",
    "\n"
   ]
  },
  {
   "cell_type": "markdown",
   "metadata": {
    "slideshow": {
     "slide_type": "fragment"
    }
   },
   "source": [
    "<div class=\"alert-info\">\n",
    "Etapes de preuve\n",
    "</div>\n",
    "La position $(0, 0, \\dots, 0)$ est une P-position, et:\n",
    "\n",
    "1. si la position du jeu a une nim-somme nulle, alors n'importe quelle action amène à une nim-somme non nulle;\n",
    "\n",
    "2. si la position du jeu a une nim-somme non nulle, alors il existe une action qui amène à une nim-somme nulle;\n"
   ]
  },
  {
   "cell_type": "markdown",
   "metadata": {
    "slideshow": {
     "slide_type": "subslide"
    }
   },
   "source": [
    "### Preuve des nim-sommes\n",
    "\n",
    "---\n",
    "\n",
    "1. Soit $(n_1, n_2, \\dots , n_k)$ une position du jeu telle que \n",
    "$$n_1 \\oplus n_2 \\oplus \\dots \\oplus n_k = 0 $$\n",
    "et soit $i$ le tas choisi pour retirer des batonnets et $m_i < n_i$ la nouvelle valeur du tas, alors:\n",
    "$$n_1 \\oplus  \\dots n_{i-1} \\oplus m_i \\oplus n_{i+1}\\oplus \\dots \\oplus n_k =  n_1 \\oplus  \\dots n_{i-1} \\oplus m_i \\oplus (n_i \\oplus n_i) \\oplus n_{i+1}\\oplus \\dots \\oplus n_k = (m_i \\oplus n_i) > 0 $$\n",
    "\n",
    "\n"
   ]
  },
  {
   "cell_type": "markdown",
   "metadata": {
    "slideshow": {
     "slide_type": "fragment"
    }
   },
   "source": [
    "2. Soit $(n_1, n_2, \\dots , n_k)$ une position du jeu telle que \n",
    "$$s := n_1 \\oplus n_2 \\oplus \\dots \\oplus n_k  > 0 $$\n",
    "et soit $i$ un tas tel que $s \\oplus n_i < n_i$ (existe toujours). Alors on change $n_i$ en $m_i = s \\oplus n_i$, si bien que \n",
    "$$s \\oplus n_i \\oplus m_i =  s  \\oplus n_i \\oplus s  \\oplus n_i = 0 $$"
   ]
  },
  {
   "cell_type": "markdown",
   "metadata": {
    "slideshow": {
     "slide_type": "fragment"
    }
   },
   "source": [
    "**Exemple**: choisir trois valeurs, par exemple $(3,4,5)$."
   ]
  },
  {
   "cell_type": "markdown",
   "metadata": {
    "slideshow": {
     "slide_type": "subslide"
    }
   },
   "source": [
    "### Jeu impartial en version normale\n",
    "\n",
    "---\n",
    "\n",
    "Un jeu impartial est dit **normal** si le premier joueur qui ne peut plus jouer perd.\n",
    "\n",
    "* équivalent au fait que les positions terminales (feuilles) sont des P-positions\n",
    "* dans le cas où les positions terminales sont des des S-positions, on parle de version **misère** du jeu.\n",
    "\n",
    "Dans la suite, on considère des jeux impartiaux en version normale."
   ]
  },
  {
   "cell_type": "markdown",
   "metadata": {
    "slideshow": {
     "slide_type": "subslide"
    }
   },
   "source": [
    "### Fonction de Sprague-Grundy d'un graphe acyclique $G = (X, A)$\n",
    "\n",
    "---\n",
    "C'est la fonction $g$ à valeurs entières positives définie sur $X$ par la formule suivante:\n",
    "$$g(x) = \\min\\{n \\geq 0 : n \\neq g(y),  \\forall y \\in N^+(x)\\} $$\n",
    "ou de manière équivalente par:\n",
    "$$g(x) = \\text{mex}(g(N^+(x))) $$\n",
    "où la fonction mex est la \"minimum excluded value\":\n",
    "$$\\text{mex}(\\{0,1,2,6 \\}) = 3 $$\n",
    "\n",
    "\n",
    "\n"
   ]
  },
  {
   "cell_type": "markdown",
   "metadata": {
    "slideshow": {
     "slide_type": "fragment"
    }
   },
   "source": [
    "Calculer la fonction de Sprague-Grundy:\n",
    "* dans le graphe du jeu de nim général à 1 tas\n",
    "* dans le graphe du jeu de nim dans lequel on peut retirer 1,3 ou 4 batonnets."
   ]
  },
  {
   "cell_type": "markdown",
   "metadata": {
    "slideshow": {
     "slide_type": "fragment"
    }
   },
   "source": [
    "<div class=\"alert-info\">\n",
    "Propriété\n",
    "</div>\n",
    "\n",
    "Les P-positions d'un jeu en version normale coincident avec les sommets du graphe ayant une valeur de Sprague-Grundy égale à 0.\n"
   ]
  },
  {
   "cell_type": "markdown",
   "metadata": {
    "slideshow": {
     "slide_type": "subslide"
    }
   },
   "source": [
    "### Somme de jeux impartiaux\n",
    "\n",
    "--- \n",
    "\n",
    "Soit $G_1$ et $G_2$ deux jeux impartiaux. Leur somme, notée $G_1 + G_2$ est le jeu dans lequel, à chaque tour, le joueur joue soit dans $G_1$ soit dans $G_2$.\n",
    "\n",
    "Le graphe associé a $G_1+G_2$ est le produit des graphes associés à $G_1$ et $G_2$.\n",
    "\n",
    "**Exemple**: le jeu de Nim général à $k$ tas est la somme de $k$ jeux de Nim généraux à 1 tas.\n"
   ]
  },
  {
   "cell_type": "markdown",
   "metadata": {
    "slideshow": {
     "slide_type": "fragment"
    }
   },
   "source": [
    "<div class=\"alert-info\">\n",
    "Théorème de Sprague-Grundy (admis)\n",
    "</div>\n",
    "\n",
    "Considérons la somme de jeux $G_1 + \\dots + G_n$. Alors la valeur de Sprague-Grundy $g$ de la position $(x_1, \\dots, x_n)$ est \n",
    "\n",
    "$$g(x_1, \\dots, x_n) = g_1(x_1) \\oplus \\dots \\oplus g_n(x_n) $$\n",
    "\n"
   ]
  },
  {
   "cell_type": "markdown",
   "metadata": {
    "slideshow": {
     "slide_type": "slide"
    }
   },
   "source": []
  }
 ],
 "metadata": {
  "celltoolbar": "Diaporama",
  "kernelspec": {
   "display_name": "Python 3 (ipykernel)",
   "language": "python",
   "name": "python3"
  },
  "language_info": {
   "codemirror_mode": {
    "name": "ipython",
    "version": 3
   },
   "file_extension": ".py",
   "mimetype": "text/x-python",
   "name": "python",
   "nbconvert_exporter": "python",
   "pygments_lexer": "ipython3",
   "version": "3.11.5"
  }
 },
 "nbformat": 4,
 "nbformat_minor": 4
}
