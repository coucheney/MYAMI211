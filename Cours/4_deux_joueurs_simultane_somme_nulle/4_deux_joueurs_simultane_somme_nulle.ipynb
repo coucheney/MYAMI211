{
 "cells": [
  {
   "cell_type": "markdown",
   "metadata": {
    "hide_input": false,
    "slideshow": {
     "slide_type": "slide"
    }
   },
   "source": [
    "# Jeux à 2 joueurs simultanés et à somme nulle\n",
    "\n"
   ]
  },
  {
   "cell_type": "markdown",
   "metadata": {
    "slideshow": {
     "slide_type": "slide"
    }
   },
   "source": [
    "### Un premier exemple\n",
    "\n",
    "---\n",
    "\n",
    "Les joueurs A et B choisissent indépendamment un côté d'une pièce (Pile ou Face) et ils révèlent leur choix en même temps. Si ce choix est identique, alors A donne 2 euros à B, sinon B donne 1 euro à A si A a choisi Pile, et 3 euros sinon. "
   ]
  },
  {
   "cell_type": "markdown",
   "metadata": {
    "slideshow": {
     "slide_type": "fragment"
    }
   },
   "source": [
    "**Représentation sous forme normale**: le tableau suivant aggrège les informations du jeu, la première valeur est la gain de A (joueur qui choisit la **ligne**), la deuxième valeur est le gain de B (joueur qui choisit la **colonne**).\n",
    "\n",
    "|  | **Pile**  | **Face**  \n",
    "|:--- |:---:|:---:\n",
    "|**Pile**  |  (-2, 2) | (1, -1)  | \n",
    "|**Face**  |  (3, -3) | (-2, 2)  | \n",
    "\n"
   ]
  },
  {
   "cell_type": "markdown",
   "metadata": {
    "slideshow": {
     "slide_type": "fragment"
    }
   },
   "source": [
    "La somme des gains dans chaque case du tableau fait 0: il s'agit d'un jeu à somme nulle, et la deuxième valeur peut être omise.\n",
    "\n",
    "**Question fondamentale**: définir une façon \"raisonnable\" de jouer (choisir une stratégie) dans un jeu."
   ]
  },
  {
   "cell_type": "markdown",
   "metadata": {
    "slideshow": {
     "slide_type": "fragment"
    }
   },
   "source": [
    "**Question**: résoudre les 2 jeux obtenus en supposant que les joueurs jouent à tour de rôle. "
   ]
  },
  {
   "cell_type": "markdown",
   "metadata": {
    "slideshow": {
     "slide_type": "subslide"
    }
   },
   "source": [
    "### Stratégies\n",
    "\n",
    "---\n",
    "\n",
    "Pour un joueur, une stratégie (aussi appelé **stratégie mixte**) est une loi de probabilité sur l'ensemble des choix du joueur.  \n",
    "\n",
    "**Exemple de stratégie**: dans l'exemple précédent une strategie est du type \"choisir Pile avec probabilité $p$ et Face avec probabilité $1-p$\". Cette stratégie se note $(p, 1-p)$."
   ]
  },
  {
   "cell_type": "markdown",
   "metadata": {
    "slideshow": {
     "slide_type": "fragment"
    }
   },
   "source": [
    "**Questions**: \n",
    "\n",
    "* Donner l'espérance de gain de A (Ligne) si sa stratégie est $(p, 1-p)$ et celle de B est (1,0) . Idem si celle de B est $(0,1)$.\n",
    "* Donner l'espérance de gain de A si sa stratégie est (1,0) et celle de B est $(q, 1-q)$. Idem si celle de A est $(0,1)$.\n",
    "* Donner l'espérance de gain de A  si leurs stratégies respectives sont $(p, 1-p)$ et $(q, 1-q)$."
   ]
  },
  {
   "cell_type": "markdown",
   "metadata": {
    "slideshow": {
     "slide_type": "fragment"
    }
   },
   "source": [
    "Une stratégie déterministe est appelée **stratégie pure**. Quelle est l'espérance de gain si les 2 joueurs choisissent des stratégies pures?"
   ]
  },
  {
   "cell_type": "markdown",
   "metadata": {
    "slideshow": {
     "slide_type": "subslide"
    }
   },
   "source": [
    "### Jeu séquentiel en stratégies mixtes\n",
    "\n",
    "---\n",
    "Considérons le jeu de l'exemple précédent où un des joueurs annonce sa stratégie à l'autre, puis l'autre choisit la sienne, et enfin, l'issue (aléatoire) du jeu est déterminée. Résoudre les deux jeux séquentiels que l'on obtient ainsi."
   ]
  },
  {
   "cell_type": "markdown",
   "metadata": {
    "slideshow": {
     "slide_type": "slide"
    }
   },
   "source": [
    "### Modèle général\n",
    "\n",
    "---\n",
    "\n",
    "* Deux joueurs appelés \"Ligne\" et \"Colonne\" ayant respectivement $n$ et $m$ actions notées $\\{1 \\dots n \\}$ et $\\{1 \\dots m\\}$.\n",
    "* Chaque joueur choisit une stratégie en secret, et les deux stratégies sont révélées simultanément.\n",
    "* On note $A_{ij}$ le gain de Ligne s'il choisit la stratégie pure $i \\in \\{1 \\dots n \\}$ et Colonne choisit la stratégie pure $j \\in \\{1 \\dots m\\}$. Ligne cherche à **maximiser** $A_{ij}$.\n",
    "* Le gain de Colonne est alors $-A_{ij}$. Colonne cherche à **minimiser** $A_{ij}$.\n",
    "\n"
   ]
  },
  {
   "cell_type": "markdown",
   "metadata": {
    "slideshow": {
     "slide_type": "fragment"
    }
   },
   "source": [
    "**Exemple** ($n=2$ et $m=3$):\n",
    "\n",
    "$$\n",
    "A =\n",
    "\\left(\n",
    "\\begin{array}{c|c|c}\n",
    "1&-1&3\\\\\n",
    "\\hline\n",
    "5&0&-2\\\\\n",
    "\\end{array}\n",
    "\\right)\n",
    "$$\n",
    "\n",
    "Quelle est le meilleur gain que Ligne peut garantir? Et pour Colonne?\n"
   ]
  },
  {
   "cell_type": "markdown",
   "metadata": {
    "slideshow": {
     "slide_type": "fragment"
    }
   },
   "source": [
    "Si on note\n",
    "* $ \\text{maxmin} = \\max_{i \\in \\{1 \\dots n\\}} \\min_{j \\in \\{1 \\dots m\\}}  A_{ij}$\n",
    "* $ \\text{minmax} = \\min_{j \\in \\{1 \\dots m\\}} \\max_{i \\in \\{1 \\dots n\\}}  A_{ij}$\n",
    "\n",
    "on a déjà montré que\n",
    "$$ \\text{maxmin} \\leq \\text{minmax}$$"
   ]
  },
  {
   "cell_type": "markdown",
   "metadata": {
    "slideshow": {
     "slide_type": "subslide"
    }
   },
   "source": [
    "### Modèle avec des stratégies mixtes\n",
    "\n",
    "---\n",
    "\n",
    "On note $p = (p_1, \\dots, p_n) \\in \\Delta_n$ une stratégie mixte de Ligne et $q = (q_1, \\dots, q_m) \\in \\Delta_m$ une stratégie mixte de Colonne, avec\n",
    "$$\\Delta_k = \\{x \\in \\mathbb{R}^k | x \\geq 0 \\text{ et }\\sum_{i=1}^k x_i = 1\\} $$\n",
    "\n",
    "\n"
   ]
  },
  {
   "cell_type": "markdown",
   "metadata": {
    "slideshow": {
     "slide_type": "fragment"
    }
   },
   "source": [
    "* $\\Delta_k$ est un ensemble **convexe** (sans trou entre toute paire de points de $\\Delta_k$)\n",
    "* $\\Delta_k$ est un ensemble **compact** (borné et fermé)\n",
    "\n",
    "Ces deux propriétés font que toute fonction convexe (resp. concave) définie sur cet ensemble admet une seule valeur minimale (resp. maximale).\n",
    "\n",
    "<center><img src='fig/simplexe.png'  style=\"width: 1000px;\"></center> \n"
   ]
  },
  {
   "cell_type": "markdown",
   "metadata": {
    "slideshow": {
     "slide_type": "fragment"
    }
   },
   "source": [
    "**Questions**: montrer que le gain moyen de Ligne est \n",
    "* $(pA)_j$ si Ligne choisit $p \\in \\Delta_n$ et Colonne choisit la stratégie pure $j \\in \\{1 \\dots m\\}$ ($=(0,\\dots 0 ,1 ,0,\\dots 0 )$ où le 1 est sur la j-ème coordonnée)\n",
    "* $(Aq^\\intercal)_i$ si Ligne choisit $i \\in \\{1 \\dots n\\}$ et Colonne choisit  $q \\in \\Delta_m$\n",
    "* $pAq^\\intercal$ si Ligne choisit $p \\in \\Delta_n$ et Colonne choisit $q \\in \\Delta_m$\n"
   ]
  },
  {
   "cell_type": "markdown",
   "metadata": {
    "slideshow": {
     "slide_type": "slide"
    }
   },
   "source": [
    "### Théorème du minimax de von Neumann\n",
    "\n",
    "---\n",
    "<div class=\"alert-info\">\n",
    "Pour tout jeu à somme nulle sous forme normale, il existe une valeur $v^*$ et des stratégies $p^* \\in \\Delta_n$ et $q^* \\in \\Delta_m$ telles que:\n",
    "    \n",
    "* $p^*A q^{\\intercal} \\geq v^* , \\forall q \\in \\Delta_m$ ($p^*$ garantit le gain $v^*$ pour Ligne)\n",
    "* $p A q^{*\\intercal} \\leq v^* , \\forall p \\in \\Delta_n$ ($q^*$ garantit le gain $-v^*$ pour Colonne)\n",
    "</div>\n",
    "\n",
    "\n",
    "Les stratégies $p^*$ et $q^*$ sont appelées **stratégies d'équilibre minimax** et $v^*$ est la **valeur** du jeu"
   ]
  },
  {
   "cell_type": "markdown",
   "metadata": {
    "slideshow": {
     "slide_type": "fragment"
    }
   },
   "source": [
    "Si on note\n",
    "* $ \\text{supinf} = \\sup_{p \\in \\Delta_n} \\inf_{q \\in \\Delta_m}  pAq^\\intercal $\n",
    "* $ \\text{infsup} =  \\inf_{q \\in \\Delta_m} \\sup_{p \\in \\Delta_n} pAq^\\intercal $\n",
    "\n",
    "montrer grâce au théorème que\n",
    "$$p^* A q^{*\\intercal}  = v^* = \\text{supinf} = \\text{infsup}$$\n",
    "\n",
    "Montrer également l'unicité de $v^*$. Quid de $p^*$ et de $q^*$?"
   ]
  },
  {
   "cell_type": "markdown",
   "metadata": {
    "slideshow": {
     "slide_type": "fragment"
    }
   },
   "source": [
    "**Preuve**:\n",
    "$$\n",
    "\\inf_{q \\in \\Delta_m} \\sup_{p \\in \\Delta_n} pAq^\\intercal\n",
    "\\leq \\sup_{p \\in \\Delta_n} pAq^{*\\intercal}\n",
    "\\leq v^*\n",
    "\\leq \\inf_{q \\in \\Delta_m}  p^*Aq^\\intercal\n",
    "\\leq \\sup_{p \\in \\Delta_n} \\inf_{q \\in \\Delta_m}  pAq^\\intercal\n",
    "\\leq \\inf_{q \\in \\Delta_m} \\sup_{p \\in \\Delta_n} pAq^\\intercal\n",
    "$$"
   ]
  },
  {
   "cell_type": "markdown",
   "metadata": {
    "slideshow": {
     "slide_type": "subslide"
    }
   },
   "source": [
    "### Exercice\n",
    "\n",
    "---\n",
    "\n",
    "Donner la valeur et les stratégies d'équilibre minimax du jeu suivant:\n",
    "\n",
    "$$\n",
    "A =\n",
    "\\left(\n",
    "\\begin{array}{c|c|c}\n",
    "5&3&1\\\\\n",
    "\\hline\n",
    "0&1&8\\\\\n",
    "\\end{array}\n",
    "\\right)\n",
    "$$\n"
   ]
  },
  {
   "cell_type": "markdown",
   "metadata": {
    "slideshow": {
     "slide_type": "subslide"
    }
   },
   "source": [
    "### Lien avec la programmation linéaire\n",
    "\n",
    "---\n",
    "\n",
    "Montrer que \n",
    "$$p^*A q^{\\intercal} \\geq v^* , \\forall q \\in \\Delta_m$$\n",
    "équivaut à\n",
    "$$(p^*A)_j \\geq v^*, \\forall j \\in \\{1 \\dots m\\} $$"
   ]
  },
  {
   "cell_type": "markdown",
   "metadata": {
    "slideshow": {
     "slide_type": "fragment"
    }
   },
   "source": [
    "La valeur $v^*$ ainsi que $p^*$ et $q^*$ sont donc une solution au système fini d'inégalités linéaires suivantes avec les variables $p, q, v$:\n",
    "\n",
    "* $(pA)_j \\geq v, \\forall j \\in \\{1 \\dots m\\} $\n",
    "* $(Aq^{\\intercal})_i \\leq v, \\forall i \\in \\{1 \\dots n\\} $\n",
    "* $p \\in \\Delta_n$\n",
    "* $q \\in \\Delta_m$\n",
    "\n"
   ]
  },
  {
   "cell_type": "markdown",
   "metadata": {
    "slideshow": {
     "slide_type": "fragment"
    }
   },
   "source": [
    "On peut donc trouver une solution, si celle-ci existe, en utilisant la progammation linéaire. \n",
    "\n",
    "Le théorème du minimax de von Neumann équivaut à l'existence d'une telle solution  (i.e. l'ensemble des contraintes est non vide)."
   ]
  },
  {
   "cell_type": "markdown",
   "metadata": {
    "slideshow": {
     "slide_type": "subslide"
    }
   },
   "source": [
    "### Preuve du théorème de von Neumann\n",
    "\n",
    "---\n",
    "\n",
    "Soit le programme linéaire suivant:\n",
    "* $ \\max v$\n",
    "* $(pA)_j \\geq v, \\forall j \\in \\{1 \\dots m\\} $\n",
    "* $p \\in \\Delta_n$\n",
    "\n",
    "**Questions** \n",
    "* montrer qu'il admet une solution admissible\n",
    "* calculer son dual"
   ]
  },
  {
   "cell_type": "markdown",
   "metadata": {
    "slideshow": {
     "slide_type": "fragment"
    }
   },
   "source": [
    "Le dual est\n",
    "* $ \\min w$\n",
    "* $(Aq^{\\intercal})_i \\leq w, \\forall i \\in \\{1 \\dots n\\} $\n",
    "* $q \\in \\Delta_m$\n",
    "\n",
    "Il admet une solution admissible pour les mêmes raisons que le primal. Les deux problèmes ont donc la même valeur notée $v^*$.\n",
    "\n",
    "Si $p^*$, $q^*$ et $v^*$ sont des solutions des deux programmes linéaires, on voit qu'elles satisfont les contraintes du théorème de von Neumann."
   ]
  },
  {
   "cell_type": "markdown",
   "metadata": {
    "slideshow": {
     "slide_type": "fragment"
    }
   },
   "source": [
    "On peut donc résoudre un jeu en résolvant ce programme linéaire et/ou son dual."
   ]
  },
  {
   "cell_type": "markdown",
   "metadata": {
    "slideshow": {
     "slide_type": "slide"
    }
   },
   "source": [
    "### Exercices\n",
    "\n",
    "---\n",
    "\n",
    "* Calculer la valeur des jeux suivants\n",
    "\n",
    "$$\n",
    "\\left(\n",
    "\\begin{array}{c|c}\n",
    "1&2\\\\\n",
    "\\hline\n",
    "0&1\\\\\n",
    "\\end{array}\n",
    "\\right)\n",
    "\\quad\n",
    "\\left(\n",
    "\\begin{array}{c|c}\n",
    "1&0\\\\\n",
    "\\hline\n",
    "0&k\\\\\n",
    "\\end{array}\n",
    "\\right)\n",
    "\\quad\n",
    "\\left(\n",
    "\\begin{array}{c|c|c}\n",
    "5&6&3\\\\\n",
    "\\hline\n",
    "4&7&4\\\\\n",
    "\\hline\n",
    "9&3&0\n",
    "\\end{array}\n",
    "\\right)\n",
    "$$"
   ]
  },
  {
   "cell_type": "markdown",
   "metadata": {
    "slideshow": {
     "slide_type": "fragment"
    }
   },
   "source": [
    "* Modéliser le jeu \"Pierre-Feuille-Ciseaux\" sous forme de matrice de gain, écrire le PL qui permet de le résoudre et résoudre le jeu.\n",
    "\n",
    "* Un jeu est symétrique si, comme dans le jeu \"Pierre-Feuille-Ciseaux\" les joueurs peuvent être permutés sans modifier leur ensemble d'actions et les gains qui leur sont associés.\n",
    "    * qu'est-ce que cela implique sur la matrice de gain?\n",
    "    * en utilisant la caractérisation de la valeur par un PL, montrer que la valeur d'un jeu symétrique est nulle.\n",
    "    \n"
   ]
  },
  {
   "cell_type": "markdown",
   "metadata": {
    "slideshow": {
     "slide_type": "subslide"
    }
   },
   "source": []
  }
 ],
 "metadata": {
  "celltoolbar": "Diaporama",
  "kernelspec": {
   "display_name": "Python 3 (ipykernel)",
   "language": "python",
   "name": "python3"
  },
  "language_info": {
   "codemirror_mode": {
    "name": "ipython",
    "version": 3
   },
   "file_extension": ".py",
   "mimetype": "text/x-python",
   "name": "python",
   "nbconvert_exporter": "python",
   "pygments_lexer": "ipython3",
   "version": "3.11.5"
  }
 },
 "nbformat": 4,
 "nbformat_minor": 4
}
