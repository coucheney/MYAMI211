{
 "cells": [
  {
   "cell_type": "markdown",
   "metadata": {
    "slideshow": {
     "slide_type": "slide"
    }
   },
   "source": [
    "# Théorie algorithmique des jeux et apprentissage stochastique\n",
    "\n",
    "## Cours d'introduction"
   ]
  },
  {
   "cell_type": "markdown",
   "metadata": {
    "slideshow": {
     "slide_type": "slide"
    }
   },
   "source": [
    "## 1. Organisation du cours\n",
    "---\n",
    "\n",
    "* Espace du cours sur [Moodle](https://moodle.uvsq.fr/moodle2021/course/view.php?id=3956). Vérifiez votre accès à cet espace.\n",
    "    * supports de cours\n",
    "    * informations diverses\n",
    "    * liens de visioconférence pour les TDs à distance\n",
    "* [Emploi du temps](https://edt.uvsq.fr/cal?vt=month&dt=2020-10-01&et=module&fid0=MYAMI211%20-%20Th%C3%A9orie%20algorithmique%20des%20jeux%20et%20apprentissage%20par%20renforcement):\n",
    "    * mercredi 8:00\n",
    "    * créneaux de 1:20, attention aux changements d'horaires par rapport à 2019 - 2020\n",
    "    * selon les semaines, 1 ou 2 créneaux, et en présence ou à distance. **Bien vérifier l'emploi du temps** à chaque fois.\n",
    "    * cours du mercredi 28 octobre déplacé au jeudi 12 novembre (vrai aussi pour le cours de classification et réseau de neurones)\n",
    "* Evaluation:\n",
    "    * 50% examen\n",
    "    * 50% lecture d'article avec développement d'un programme lié à l'article (en binôme)\n",
    "\n",
    "\n"
   ]
  },
  {
   "cell_type": "markdown",
   "metadata": {
    "slideshow": {
     "slide_type": "subslide"
    }
   },
   "source": [
    "**Cours à distance**\n",
    "\n",
    "---\n",
    "* Vous pouvez utiliser le chat pour parler du cours entre vous.\n",
    "* Pour me poser une question: \n",
    "    * lever la main (fonctionnalité présente dans la fenêtre des participants) ce qui me permet d'être averti\n",
    "    * posez votre question via chat ou micro selon ce qui paraît le plus adapté\n",
    "    * le reste du temps, vos micros doivent être éteints\n",
    "    \n"
   ]
  },
  {
   "cell_type": "markdown",
   "metadata": {
    "slideshow": {
     "slide_type": "slide"
    }
   },
   "source": [
    "## 2. Quelques définitions\n",
    "---\n",
    "\n",
    "**Théorie des jeux**\n",
    "\n",
    "Ensemble de théories mathématiques qui *modélisent* des situations où des agents (ou joueurs) sont en interaction et prennent des décisions. Chaque agent est supposé *rationnel* et souhaite optimiser son gain.\n",
    "\n",
    "**Stratégie optimale**\n",
    "* 1 joueur: solution d'un problème d'optimisation classique\n",
    "* $>$ 1 joueur: solution de plusieurs problèmes d'optimisation imbriqués. Notion d'*équilibre* à définir. "
   ]
  },
  {
   "cell_type": "markdown",
   "metadata": {
    "slideshow": {
     "slide_type": "subslide"
    }
   },
   "source": [
    "**Théorie algorithmique des jeux**\n",
    "\n",
    "Algorithmes pour calculer ces équilibres, et questions liées à la complexité de ces calculs.\n",
    "\n",
    "\n",
    "**Apprentissage par renforcement**\n",
    "\n",
    "Algorithmes de calcul de stratégie qui s'appliquent dans un modèle donné où les joueurs optimisent leur gain au cours du temps ([vidéo d'un jeu à 2 joueurs](https://www.youtube.com/channel/UCbfYPyITQ-7l4upoX8nvctg)). Dans ce cours, nous verrons le cadre à 1 joueur (optimisation), et vous verrez la suite au semestre 2 (cours \"Intelligence Artificielle et Jeux\").\n",
    "\n",
    "\n"
   ]
  },
  {
   "cell_type": "markdown",
   "metadata": {
    "slideshow": {
     "slide_type": "subslide"
    }
   },
   "source": [
    "**Exemples de jeux (1): Morpion**\n",
    "\n",
    "---\n",
    "![test](images/morpion.png)\n"
   ]
  },
  {
   "cell_type": "markdown",
   "metadata": {
    "slideshow": {
     "slide_type": "fragment"
    }
   },
   "source": [
    "* 2 joueurs\n",
    "* jeu séquentiel (chacun joue à tour de rôle)\n",
    "* information complète\n",
    "* 9 coups possibles au plus (**horizon fini**)\n",
    "* petite taille: arbre de tous les coups possibles réalisable\n",
    "* un vainqueur et un perdant (ou match nul pour les deux): jeu à *somme nulle*"
   ]
  },
  {
   "cell_type": "markdown",
   "metadata": {
    "slideshow": {
     "slide_type": "subslide"
    }
   },
   "source": [
    "**Exemples de jeux (2): Gomoku**\n",
    "\n",
    "---\n",
    "Pareil que le morpion mais il faut aligner 5 pions sur un plateau $19\\times19$\n",
    "![test](images/gomoku.png)\n",
    "\n",
    "Mêmes caractéristiques que le morpion excepté que l'on ne peut pas dessiner l'arbre de tous les coups possibles."
   ]
  },
  {
   "cell_type": "markdown",
   "metadata": {
    "slideshow": {
     "slide_type": "subslide"
    }
   },
   "source": [
    "**Exemples de jeux (3): jeu d'échec, jeu de dames**\n",
    "\n",
    "---\n",
    "![](images/echec.jpeg)\n",
    "\n",
    "Mêmes caractéristiques que Gomoku.\n",
    "\n",
    "Classe des jeux combinatoires (partisans ou impartiaux)."
   ]
  },
  {
   "cell_type": "markdown",
   "metadata": {
    "slideshow": {
     "slide_type": "subslide"
    }
   },
   "source": [
    "**Exemples de jeux (4): jeu de l'oie**\n",
    "\n",
    "---\n",
    "![test](images/oie.jpeg)"
   ]
  },
  {
   "cell_type": "markdown",
   "metadata": {
    "slideshow": {
     "slide_type": "fragment"
    }
   },
   "source": [
    "* hasard complet\n",
    "* pas de stratégie, on peut anticiper ce qui va se passer en moyenne\n"
   ]
  },
  {
   "cell_type": "markdown",
   "metadata": {
    "slideshow": {
     "slide_type": "subslide"
    }
   },
   "source": [
    "**Exemples de jeux (5): pierre feuille ciseau**\n",
    "\n",
    "---\n",
    "![test](images/pfc.jpeg)"
   ]
  },
  {
   "cell_type": "markdown",
   "metadata": {
    "slideshow": {
     "slide_type": "fragment"
    }
   },
   "source": [
    "* \"petit\" jeu\n",
    "* 2 joueurs *en simultané*\n",
    "* utilisation de stratégies aléatoires"
   ]
  },
  {
   "cell_type": "markdown",
   "metadata": {
    "slideshow": {
     "slide_type": "subslide"
    }
   },
   "source": [
    "**Exemples de jeux (6): jeux de carte type tarot, belote, etc...**\n",
    "\n",
    "---\n",
    "![test](images/tarot.jpeg)"
   ]
  },
  {
   "cell_type": "markdown",
   "metadata": {
    "slideshow": {
     "slide_type": "fragment"
    }
   },
   "source": [
    "* joueurs en équipe (ou coalition)\n",
    "* information cachée (ou imparfaite)"
   ]
  },
  {
   "cell_type": "markdown",
   "metadata": {
    "slideshow": {
     "slide_type": "subslide"
    }
   },
   "source": [
    "**Exemples de jeux (7): jeu de congestion**\n",
    "\n",
    "---\n",
    "![test](images/bouchon.jpeg)\n",
    "\n",
    "Chaque \"joueur\" choisit un itinéraire."
   ]
  },
  {
   "cell_type": "markdown",
   "metadata": {
    "slideshow": {
     "slide_type": "fragment"
    }
   },
   "source": [
    "* ce n'est pas un jeu à somme nulle\n",
    "* objectifs des joueurs inconnus des autres (information incomplète)\n",
    "* chaque joueur a une influence négligeable sur la congestion"
   ]
  },
  {
   "cell_type": "markdown",
   "metadata": {
    "slideshow": {
     "slide_type": "subslide"
    }
   },
   "source": [
    "**Pourquoi s'intéresse-t'on aux jeux?**\n",
    "\n",
    "---"
   ]
  },
  {
   "cell_type": "markdown",
   "metadata": {
    "slideshow": {
     "slide_type": "fragment"
    }
   },
   "source": [
    "* modélisation naturelle de systèmes\n",
    "    * écologiques\n",
    "    * économiques\n",
    "* extension du cadre de la recherche opérationnelle (optimisation) aux systèmes multi-agents\n",
    "* cadre simple pour tester des intelligence artificielles"
   ]
  },
  {
   "cell_type": "code",
   "execution_count": null,
   "metadata": {
    "slideshow": {
     "slide_type": "slide"
    }
   },
   "outputs": [],
   "source": [
    "from random import *\n",
    "\n",
    "g = 0\n",
    "\n",
    "for i in range(1, 20):\n",
    "    r = randint(0, 2)\n",
    "    if r == 0:\n",
    "        g += 15\n",
    "    elif r == 1:\n",
    "        g += 10\n",
    "    else:\n",
    "        g += 5\n",
    "    r = randint(0, 1)\n",
    "    if r == 0:\n",
    "        g += 18\n",
    "    else:\n",
    "        g += 2\n",
    "\n",
    "    print(g, i, g / i)\n",
    "\n",
    "            \n"
   ]
  },
  {
   "cell_type": "code",
   "execution_count": null,
   "metadata": {
    "slideshow": {
     "slide_type": "subslide"
    }
   },
   "outputs": [],
   "source": [
    "\n",
    "def td_0(v, a):\n",
    "    r = randint(0, 2)\n",
    "    if r == 0:\n",
    "        g = 15\n",
    "    elif r == 1:\n",
    "        g = 10\n",
    "    else:\n",
    "        g = 5\n",
    "    x = v[0] + a * (g + v[1] - v[0])\n",
    "    \n",
    "    r = randint(0, 1)\n",
    "    if r == 0:\n",
    "        g = 18\n",
    "    else:\n",
    "        g = 2\n",
    "    y = v[1] + a*(g + 0 - v[1])\n",
    "    return x, y\n",
    "    \n",
    "v = (0, 0)\n",
    "\n",
    "for i in range(1, 1000):\n",
    "    v = td_0(v, 0.05)\n",
    "    print(i, v)\n",
    "    \n",
    "    \n",
    "    "
   ]
  },
  {
   "cell_type": "code",
   "execution_count": 5,
   "metadata": {
    "slideshow": {
     "slide_type": "slide"
    }
   },
   "outputs": [
    {
     "name": "stdout",
     "output_type": "stream",
     "text": [
      "étape 1 [0.0, 0.0, 0.0, 0.5]\n",
      "étape 2 [0.0, 0.0, 0.16666666666666666, 0.5]\n",
      "étape 3 [0.08333333333333333, 0.0, 0.16666666666666666, 0.5833333333333334]\n",
      "étape 4 [0.08333333333333333, 0.041666666666666664, 0.2222222222222222, 0.5833333333333334]\n",
      "étape 5 [0.13194444444444445, 0.041666666666666664, 0.2222222222222222, 0.6111111111111112]\n",
      "étape 6 [0.13194444444444445, 0.06597222222222222, 0.2476851851851852, 0.6111111111111112]\n",
      "étape 7 [0.15682870370370372, 0.06597222222222222, 0.2476851851851852, 0.6238425925925926]\n",
      "étape 8 [0.15682870370370372, 0.07841435185185186, 0.26022376543209874, 0.6238425925925926]\n",
      "étape 9 [0.1693190586419753, 0.07841435185185186, 0.26022376543209874, 0.6301118827160493]\n",
      "étape 10 [0.1693190586419753, 0.08465952932098765, 0.26647698045267487, 0.6301118827160493]\n",
      "étape 11 [0.17556825488683125, 0.08465952932098765, 0.26647698045267487, 0.6332384902263375]\n",
      "étape 12 [0.17556825488683125, 0.08778412744341563, 0.26960224837105623, 0.6332384902263375]\n",
      "étape 13 [0.17869318790723593, 0.08778412744341563, 0.26960224837105623, 0.6348011241855281]\n",
      "étape 14 [0.17869318790723593, 0.08934659395361796, 0.27116477069758804, 0.6348011241855281]\n",
      "étape 15 [0.18025568232560302, 0.08934659395361796, 0.27116477069758804, 0.6355823853487941]\n",
      "étape 16 [0.18025568232560302, 0.09012784116280151, 0.2719460225581324, 0.6355823853487941]\n",
      "étape 17 [0.18103693186046693, 0.09012784116280151, 0.2719460225581324, 0.6359730112790662]\n",
      "étape 18 [0.18103693186046693, 0.09051846593023347, 0.2723366477131777, 0.6359730112790662]\n",
      "étape 19 [0.18142755682170558, 0.09051846593023347, 0.2723366477131777, 0.6361683238565888]\n",
      "cible 0.18181818181818182 0.09090909090909091 0.2727272727272727 0.6363636363636364\n"
     ]
    }
   ],
   "source": [
    "def f(v):\n",
    "    w = list(v)\n",
    "    w[0] = v[1] / 2 + v[2] / 2\n",
    "    w[1] = v[0] / 2\n",
    "    w[2] = v[0] / 3 + v[3] / 3\n",
    "    w[3] = v[2] / 2 + 0.5\n",
    "    return w\n",
    "\n",
    "v = [0]*4\n",
    "for i in range(1,20):\n",
    "    v = f(v)\n",
    "    print(\"étape\", i, v)\n",
    "\n",
    "    \n",
    "print(\"cible\", 2/11, 1/11, 3/11, 7/11)\n"
   ]
  }
 ],
 "metadata": {
  "celltoolbar": "Diaporama",
  "kernelspec": {
   "display_name": "Python 3",
   "language": "python",
   "name": "python3"
  },
  "language_info": {
   "codemirror_mode": {
    "name": "ipython",
    "version": 3
   },
   "file_extension": ".py",
   "mimetype": "text/x-python",
   "name": "python",
   "nbconvert_exporter": "python",
   "pygments_lexer": "ipython3",
   "version": "3.8.5"
  }
 },
 "nbformat": 4,
 "nbformat_minor": 4
}
