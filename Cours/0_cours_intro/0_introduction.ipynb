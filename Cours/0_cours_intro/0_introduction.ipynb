{
 "cells": [
  {
   "cell_type": "markdown",
   "metadata": {
    "slideshow": {
     "slide_type": "slide"
    },
    "tags": []
   },
   "source": [
    "# Théorie algorithmique des jeux et apprentissage par renforcement\n",
    "\n",
    "## Cours d'introduction\n",
    "\n",
    "### Professeur: Pierre Coucheney\n",
    "```\n",
    "pierre.coucheney@uvsq.fr\n",
    "```"
   ]
  },
  {
   "cell_type": "markdown",
   "metadata": {
    "jp-MarkdownHeadingCollapsed": true,
    "slideshow": {
     "slide_type": "slide"
    }
   },
   "source": [
    "## 1. Organisation du cours\n",
    "---\n",
    "\n",
    "* Espace du cours sur [e-campus](https://ecampus.paris-saclay.fr/course/view.php?id=90228). Vérifiez votre accès à cet espace.\n",
    "    * supports de cours\n",
    "    * informations diverses\n",
    "* [Emploi du temps](https://edt.uvsq.fr/cal?vt=month&dt=2025-10-01&et=module&fid0=MYAMI211):\n",
    "    * lundi 9:40 salle G203 (salle susceptible de changer)\n",
    "* Evaluation:\n",
    "    * 50% examen\n",
    "    * 50% lecture d'article\n",
    "\n",
    "\n"
   ]
  },
  {
   "cell_type": "markdown",
   "metadata": {
    "slideshow": {
     "slide_type": "slide"
    }
   },
   "source": [
    "## 2. Quelques définitions\n",
    "---\n",
    "\n",
    "**Théorie des jeux**\n",
    "\n",
    "Ensemble de théories mathématiques qui *modélisent* des situations où des agents (ou joueurs) sont en interaction et prennent des décisions. \n",
    "\n",
    "Chaque agent est supposé *rationnel* et souhaite optimiser son gain.\n",
    "\n",
    "**Calcul d'une stratégie optimale**\n",
    "* 1 joueur: solution d'un problème d'optimisation classique\n",
    "* $>$ 1 joueur: solution de plusieurs problèmes d'optimisation imbriqués. Notion d'*équilibre* à définir. "
   ]
  },
  {
   "cell_type": "markdown",
   "metadata": {
    "slideshow": {
     "slide_type": "subslide"
    }
   },
   "source": [
    "**Théorie algorithmique des jeux**\n",
    "\n",
    "Algorithmes pour calculer ces équilibres, et questions liées à la complexité de ces calculs.\n",
    "\n",
    "\n",
    "**Apprentissage par renforcement**\n",
    "\n",
    "Algorithmes qui calculent des solutions optimales ou des équilibres, qui reposent sur une exploration aléatoire et/ou un modèle faisant intervenir le hasard.\n",
    "\n",
    "* Dans le cadre de ce cours: \n",
    "    * 1 joueur;\n",
    "    * connaissance complète du modèle;\n",
    "    * focus sur les modèles sous-jacents plus que sur les algorithmes;\n",
    "* extension à 2 joueurs et avec une information incomplète au deuxième semestre (cours \"Intelligence Artificielle et Jeux\")\n",
    "\n"
   ]
  },
  {
   "cell_type": "markdown",
   "metadata": {
    "slideshow": {
     "slide_type": "subslide"
    }
   },
   "source": [
    "**Exemple du lac gelé (bibliothèque gymnasium)**\n",
    "\n",
    "---\n",
    "\n",
    "<center><img src='images/frozen_lake.jpeg' style=\"width: 400px;\"></center> \n",
    "\n"
   ]
  },
  {
   "cell_type": "markdown",
   "metadata": {
    "slideshow": {
     "slide_type": "subslide"
    }
   },
   "source": [
    "### Apprentissage par renforcement: modèle agent environnement\n",
    "\n",
    "---\n",
    "\n",
    "\n",
    "\n",
    "<center><img src='images/schema_RL.png'></center> \n",
    "\n",
    "* l'agent a un **modèle** de l'environnement qui est caractérisé par des **états**;\n",
    "* l'état de l'environnement guide les actions de l'agent en fonction des informations qu'il a obtenues dans cet état;\n",
    "* en général l'évolution des états et les décisions de l'agent sont **Markoviennes**;\n",
    "* il s'agit d'un apprentissage **non-supervisé**;"
   ]
  },
  {
   "cell_type": "markdown",
   "metadata": {
    "slideshow": {
     "slide_type": "subslide"
    }
   },
   "source": [
    "### Exemple avec plusieurs joueurs\n",
    "\n",
    "---\n",
    "\n",
    "\n",
    "https://openai.com/index/emergent-tool-use/"
   ]
  },
  {
   "cell_type": "markdown",
   "metadata": {
    "slideshow": {
     "slide_type": "slide"
    }
   },
   "source": [
    "## Jeux: un peu de classification"
   ]
  },
  {
   "cell_type": "markdown",
   "metadata": {
    "slideshow": {
     "slide_type": "subslide"
    }
   },
   "source": [
    "**Exemples de jeux (1): Morpion**\n",
    "\n",
    "---\n",
    "\n",
    "<center><img src='images/morpion.png'></center> \n",
    "\n"
   ]
  },
  {
   "cell_type": "markdown",
   "metadata": {
    "slideshow": {
     "slide_type": "fragment"
    }
   },
   "source": [
    "* 2 joueurs\n",
    "* jeu séquentiel (chacun joue à tour de rôle)\n",
    "* information complète\n",
    "* 9 coups possibles au plus (**horizon fini**)\n",
    "* petite taille: arbre de tous les coups possibles réalisables\n",
    "* un vainqueur et un perdant (ou match nul): jeu à *somme nulle*"
   ]
  },
  {
   "cell_type": "markdown",
   "metadata": {
    "slideshow": {
     "slide_type": "subslide"
    }
   },
   "source": [
    "**Exemples de jeux (2): Gomoku**\n",
    "\n",
    "---\n",
    "Pareil que le morpion mais il faut aligner 5 pions sur un plateau $19\\times19$\n",
    "\n",
    "<center><img src='images/gomoku.png'></center> \n",
    "\n",
    "\n",
    "Mêmes caractéristiques que le morpion excepté que l'on ne peut pas dessiner l'arbre de tous les coups possibles."
   ]
  },
  {
   "cell_type": "markdown",
   "metadata": {
    "slideshow": {
     "slide_type": "subslide"
    }
   },
   "source": [
    "**Exemples de jeux (3): jeu d'échec, jeu de dames**\n",
    "\n",
    "---\n",
    "\n",
    "<center><img src='images/echec.jpeg'></center> \n",
    "\n",
    "\n",
    "\n",
    "Mêmes caractéristiques que Gomoku.\n",
    "\n",
    "Classe des jeux combinatoires (partisans ou impartiaux)."
   ]
  },
  {
   "cell_type": "markdown",
   "metadata": {
    "slideshow": {
     "slide_type": "subslide"
    }
   },
   "source": [
    "**Exemples de jeux (4): jeu de l'oie**\n",
    "\n",
    "---\n",
    "\n",
    "<center><img src='images/oie.jpeg'></center> \n",
    "\n",
    "\n"
   ]
  },
  {
   "cell_type": "markdown",
   "metadata": {
    "slideshow": {
     "slide_type": "fragment"
    }
   },
   "source": [
    "* hasard complet\n",
    "* pas de stratégie, on peut anticiper ce qui va se passer en moyenne\n",
    "* horizon infini"
   ]
  },
  {
   "cell_type": "markdown",
   "metadata": {
    "slideshow": {
     "slide_type": "subslide"
    }
   },
   "source": [
    "**Exemples de jeux (5): pierre feuille ciseau**\n",
    "\n",
    "---\n",
    "\n",
    "<center><img src='images/pfc.jpeg'></center> \n",
    "\n",
    "\n"
   ]
  },
  {
   "cell_type": "markdown",
   "metadata": {
    "slideshow": {
     "slide_type": "fragment"
    }
   },
   "source": [
    "* \"petit\" jeu\n",
    "* 2 joueurs *en simultané*\n",
    "* utilisation de stratégies aléatoires"
   ]
  },
  {
   "cell_type": "markdown",
   "metadata": {
    "slideshow": {
     "slide_type": "subslide"
    }
   },
   "source": [
    "**Exemples de jeux (6): jeux de carte type tarot, belote, etc...**\n",
    "\n",
    "---\n",
    "\n",
    "<center><img src='images/tarot.jpeg'></center> \n",
    "\n",
    "\n"
   ]
  },
  {
   "cell_type": "markdown",
   "metadata": {
    "slideshow": {
     "slide_type": "fragment"
    }
   },
   "source": [
    "* joueurs en équipe (ou coalition)\n",
    "* information cachée (ou imparfaite)"
   ]
  },
  {
   "cell_type": "markdown",
   "metadata": {
    "slideshow": {
     "slide_type": "subslide"
    }
   },
   "source": [
    "**Exemples de jeux (7): jeu de congestion**\n",
    "\n",
    "---\n",
    "\n",
    "<center><img src='images/bouchon.jpeg'></center> \n",
    "\n",
    "\n",
    "Chaque conducteur (= joueur) choisit un itinéraire."
   ]
  },
  {
   "cell_type": "markdown",
   "metadata": {
    "slideshow": {
     "slide_type": "fragment"
    }
   },
   "source": [
    "* ce n'est pas un jeu à somme nulle\n",
    "* objectifs des joueurs inconnus des autres (information incomplète)\n",
    "* chaque joueur a une influence négligeable sur la congestion (jeu non atomique)"
   ]
  },
  {
   "cell_type": "markdown",
   "metadata": {
    "slideshow": {
     "slide_type": "subslide"
    }
   },
   "source": [
    "**Pourquoi la science s'intéresse-t'elle aux jeux?**\n",
    "\n",
    "---"
   ]
  },
  {
   "cell_type": "markdown",
   "metadata": {
    "slideshow": {
     "slide_type": "fragment"
    }
   },
   "source": [
    "* modélisation naturelle de la compétition notamment\n",
    "    * écologique\n",
    "    * économique\n",
    "* extension du cadre de la recherche opérationnelle (optimisation) aux systèmes multi-agents\n",
    "* cadre simple pour tester des intelligence artificielles"
   ]
  }
 ],
 "metadata": {
  "celltoolbar": "Diaporama",
  "kernelspec": {
   "display_name": "Python 3 (ipykernel)",
   "language": "python",
   "name": "python3"
  },
  "language_info": {
   "codemirror_mode": {
    "name": "ipython",
    "version": 3
   },
   "file_extension": ".py",
   "mimetype": "text/x-python",
   "name": "python",
   "nbconvert_exporter": "python",
   "pygments_lexer": "ipython3",
   "version": "3.11.5"
  }
 },
 "nbformat": 4,
 "nbformat_minor": 4
}
